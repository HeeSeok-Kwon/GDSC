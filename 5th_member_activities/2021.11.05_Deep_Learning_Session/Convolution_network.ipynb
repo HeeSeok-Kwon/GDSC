{
  "nbformat": 4,
  "nbformat_minor": 0,
  "metadata": {
    "colab": {
      "name": "Convolution_network.ipynb",
      "provenance": [],
      "collapsed_sections": [],
      "authorship_tag": "ABX9TyMnXyLQBy390MLP3bQ8FkKD",
      "include_colab_link": true
    },
    "kernelspec": {
      "name": "python3",
      "display_name": "Python 3"
    },
    "language_info": {
      "name": "python"
    },
    "accelerator": "GPU"
  },
  "cells": [
    {
      "cell_type": "markdown",
      "metadata": {
        "id": "view-in-github",
        "colab_type": "text"
      },
      "source": [
        "<a href=\"https://colab.research.google.com/github/HeeSeok-Kwon/GDSC/blob/main/Convolution_network.ipynb\" target=\"_parent\"><img src=\"https://colab.research.google.com/assets/colab-badge.svg\" alt=\"Open In Colab\"/></a>"
      ]
    },
    {
      "cell_type": "code",
      "metadata": {
        "colab": {
          "base_uri": "https://localhost:8080/"
        },
        "id": "v1dYqUQSnS4C",
        "outputId": "22b215dd-9139-4bec-b4ee-670994954fcd"
      },
      "source": [
        "pip install tensorflow"
      ],
      "execution_count": null,
      "outputs": [
        {
          "output_type": "stream",
          "name": "stdout",
          "text": [
            "Requirement already satisfied: tensorflow in /usr/local/lib/python3.7/dist-packages (2.6.0)\n",
            "Requirement already satisfied: flatbuffers~=1.12.0 in /usr/local/lib/python3.7/dist-packages (from tensorflow) (1.12)\n",
            "Requirement already satisfied: grpcio<2.0,>=1.37.0 in /usr/local/lib/python3.7/dist-packages (from tensorflow) (1.41.0)\n",
            "Requirement already satisfied: six~=1.15.0 in /usr/local/lib/python3.7/dist-packages (from tensorflow) (1.15.0)\n",
            "Requirement already satisfied: astunparse~=1.6.3 in /usr/local/lib/python3.7/dist-packages (from tensorflow) (1.6.3)\n",
            "Requirement already satisfied: numpy~=1.19.2 in /usr/local/lib/python3.7/dist-packages (from tensorflow) (1.19.5)\n",
            "Requirement already satisfied: absl-py~=0.10 in /usr/local/lib/python3.7/dist-packages (from tensorflow) (0.12.0)\n",
            "Requirement already satisfied: clang~=5.0 in /usr/local/lib/python3.7/dist-packages (from tensorflow) (5.0)\n",
            "Requirement already satisfied: opt-einsum~=3.3.0 in /usr/local/lib/python3.7/dist-packages (from tensorflow) (3.3.0)\n",
            "Requirement already satisfied: keras~=2.6 in /usr/local/lib/python3.7/dist-packages (from tensorflow) (2.6.0)\n",
            "Requirement already satisfied: h5py~=3.1.0 in /usr/local/lib/python3.7/dist-packages (from tensorflow) (3.1.0)\n",
            "Requirement already satisfied: wheel~=0.35 in /usr/local/lib/python3.7/dist-packages (from tensorflow) (0.37.0)\n",
            "Requirement already satisfied: gast==0.4.0 in /usr/local/lib/python3.7/dist-packages (from tensorflow) (0.4.0)\n",
            "Requirement already satisfied: google-pasta~=0.2 in /usr/local/lib/python3.7/dist-packages (from tensorflow) (0.2.0)\n",
            "Requirement already satisfied: termcolor~=1.1.0 in /usr/local/lib/python3.7/dist-packages (from tensorflow) (1.1.0)\n",
            "Requirement already satisfied: typing-extensions~=3.7.4 in /usr/local/lib/python3.7/dist-packages (from tensorflow) (3.7.4.3)\n",
            "Requirement already satisfied: tensorflow-estimator~=2.6 in /usr/local/lib/python3.7/dist-packages (from tensorflow) (2.6.0)\n",
            "Requirement already satisfied: wrapt~=1.12.1 in /usr/local/lib/python3.7/dist-packages (from tensorflow) (1.12.1)\n",
            "Requirement already satisfied: protobuf>=3.9.2 in /usr/local/lib/python3.7/dist-packages (from tensorflow) (3.17.3)\n",
            "Requirement already satisfied: tensorboard~=2.6 in /usr/local/lib/python3.7/dist-packages (from tensorflow) (2.6.0)\n",
            "Requirement already satisfied: keras-preprocessing~=1.1.2 in /usr/local/lib/python3.7/dist-packages (from tensorflow) (1.1.2)\n",
            "Requirement already satisfied: cached-property in /usr/local/lib/python3.7/dist-packages (from h5py~=3.1.0->tensorflow) (1.5.2)\n",
            "Requirement already satisfied: tensorboard-plugin-wit>=1.6.0 in /usr/local/lib/python3.7/dist-packages (from tensorboard~=2.6->tensorflow) (1.8.0)\n",
            "Requirement already satisfied: requests<3,>=2.21.0 in /usr/local/lib/python3.7/dist-packages (from tensorboard~=2.6->tensorflow) (2.23.0)\n",
            "Requirement already satisfied: google-auth<2,>=1.6.3 in /usr/local/lib/python3.7/dist-packages (from tensorboard~=2.6->tensorflow) (1.35.0)\n",
            "Requirement already satisfied: setuptools>=41.0.0 in /usr/local/lib/python3.7/dist-packages (from tensorboard~=2.6->tensorflow) (57.4.0)\n",
            "Requirement already satisfied: markdown>=2.6.8 in /usr/local/lib/python3.7/dist-packages (from tensorboard~=2.6->tensorflow) (3.3.4)\n",
            "Requirement already satisfied: werkzeug>=0.11.15 in /usr/local/lib/python3.7/dist-packages (from tensorboard~=2.6->tensorflow) (1.0.1)\n",
            "Requirement already satisfied: google-auth-oauthlib<0.5,>=0.4.1 in /usr/local/lib/python3.7/dist-packages (from tensorboard~=2.6->tensorflow) (0.4.6)\n",
            "Requirement already satisfied: tensorboard-data-server<0.7.0,>=0.6.0 in /usr/local/lib/python3.7/dist-packages (from tensorboard~=2.6->tensorflow) (0.6.1)\n",
            "Requirement already satisfied: pyasn1-modules>=0.2.1 in /usr/local/lib/python3.7/dist-packages (from google-auth<2,>=1.6.3->tensorboard~=2.6->tensorflow) (0.2.8)\n",
            "Requirement already satisfied: rsa<5,>=3.1.4 in /usr/local/lib/python3.7/dist-packages (from google-auth<2,>=1.6.3->tensorboard~=2.6->tensorflow) (4.7.2)\n",
            "Requirement already satisfied: cachetools<5.0,>=2.0.0 in /usr/local/lib/python3.7/dist-packages (from google-auth<2,>=1.6.3->tensorboard~=2.6->tensorflow) (4.2.4)\n",
            "Requirement already satisfied: requests-oauthlib>=0.7.0 in /usr/local/lib/python3.7/dist-packages (from google-auth-oauthlib<0.5,>=0.4.1->tensorboard~=2.6->tensorflow) (1.3.0)\n",
            "Requirement already satisfied: importlib-metadata in /usr/local/lib/python3.7/dist-packages (from markdown>=2.6.8->tensorboard~=2.6->tensorflow) (4.8.1)\n",
            "Requirement already satisfied: pyasn1<0.5.0,>=0.4.6 in /usr/local/lib/python3.7/dist-packages (from pyasn1-modules>=0.2.1->google-auth<2,>=1.6.3->tensorboard~=2.6->tensorflow) (0.4.8)\n",
            "Requirement already satisfied: chardet<4,>=3.0.2 in /usr/local/lib/python3.7/dist-packages (from requests<3,>=2.21.0->tensorboard~=2.6->tensorflow) (3.0.4)\n",
            "Requirement already satisfied: idna<3,>=2.5 in /usr/local/lib/python3.7/dist-packages (from requests<3,>=2.21.0->tensorboard~=2.6->tensorflow) (2.10)\n",
            "Requirement already satisfied: certifi>=2017.4.17 in /usr/local/lib/python3.7/dist-packages (from requests<3,>=2.21.0->tensorboard~=2.6->tensorflow) (2021.5.30)\n",
            "Requirement already satisfied: urllib3!=1.25.0,!=1.25.1,<1.26,>=1.21.1 in /usr/local/lib/python3.7/dist-packages (from requests<3,>=2.21.0->tensorboard~=2.6->tensorflow) (1.24.3)\n",
            "Requirement already satisfied: oauthlib>=3.0.0 in /usr/local/lib/python3.7/dist-packages (from requests-oauthlib>=0.7.0->google-auth-oauthlib<0.5,>=0.4.1->tensorboard~=2.6->tensorflow) (3.1.1)\n",
            "Requirement already satisfied: zipp>=0.5 in /usr/local/lib/python3.7/dist-packages (from importlib-metadata->markdown>=2.6.8->tensorboard~=2.6->tensorflow) (3.6.0)\n"
          ]
        }
      ]
    },
    {
      "cell_type": "code",
      "metadata": {
        "colab": {
          "base_uri": "https://localhost:8080/"
        },
        "id": "GAU9r84HoMbV",
        "outputId": "7f344ab6-edff-48ac-dd59-978a6648bed6"
      },
      "source": [
        "pip install keras"
      ],
      "execution_count": null,
      "outputs": [
        {
          "output_type": "stream",
          "name": "stdout",
          "text": [
            "Requirement already satisfied: keras in /usr/local/lib/python3.7/dist-packages (2.6.0)\n"
          ]
        }
      ]
    },
    {
      "cell_type": "code",
      "metadata": {
        "id": "IMNfztYwoONz"
      },
      "source": [
        "# 내가 필요한 라이브러리 import\n",
        "from keras.models import Sequential#을 사용해서\n",
        "# 딥러닝의 구조에서 층을 쌓겠다는 선언을 해주고\n",
        "from keras.layers import Dense, Conv2D, MaxPooling2D, Dropout, Flatten\n",
        "\n",
        "import numpy as np\n",
        "import tensorflow as tf\n",
        "import matplotlib.pyplot as plt\n",
        "\n",
        "# 테스트셋과 학습셋 분리하는 기능 : train_test_split\n",
        "#from sklearn.model_selection import train_test_split\n",
        "\n",
        "# mnist 사용 \n",
        "from keras.datasets import mnist\n",
        "\n",
        "# one-hot encoding(10개의 숫자 리스트에서 어느 위치에 가장 큰 값, 즉 이미지의 숫자 위치를 파악할 때 사용되는 함수\n",
        "from keras.utils import np_utils"
      ],
      "execution_count": null,
      "outputs": []
    },
    {
      "cell_type": "code",
      "metadata": {
        "id": "exa2jRFJorDF"
      },
      "source": [
        "# 가중치 랜덤수 실행, 실행할때마다 다른 랜덤수 발생 시 정확도 파악 어렵기 때문에 랜덤수를 고정\n",
        "seed = 5\n",
        "np.random.seed(seed)\n",
        "tf.random.set_seed(seed)"
      ],
      "execution_count": null,
      "outputs": []
    },
    {
      "cell_type": "code",
      "metadata": {
        "colab": {
          "base_uri": "https://localhost:8080/"
        },
        "id": "lifAxGDuqS7W",
        "outputId": "b1d9f480-9fdb-412b-dc49-560c6c1d41f4"
      },
      "source": [
        "(X_train, Y_class_train), (X_test, Y_class_test) = mnist.load_data()\n",
        "\n",
        "print(X_train.shape)\n",
        "print(X_test.shape)\n",
        "print(\"train set 이미지수 : %d개\" %(X_train.shape[0]))\n",
        "print(\"test set 이미지수 : %d개\" %(X_test.shape[0]))"
      ],
      "execution_count": null,
      "outputs": [
        {
          "output_type": "stream",
          "name": "stdout",
          "text": [
            "Downloading data from https://storage.googleapis.com/tensorflow/tf-keras-datasets/mnist.npz\n",
            "11493376/11490434 [==============================] - 0s 0us/step\n",
            "11501568/11490434 [==============================] - 0s 0us/step\n",
            "(60000, 28, 28)\n",
            "(10000, 28, 28)\n",
            "train set 이미지수 : 60000개\n",
            "test set 이미지수 : 10000개\n"
          ]
        }
      ]
    },
    {
      "cell_type": "code",
      "metadata": {
        "colab": {
          "base_uri": "https://localhost:8080/",
          "height": 265
        },
        "id": "iasNe993qYj2",
        "outputId": "3369c84e-e143-46d8-8f74-475142b0645b"
      },
      "source": [
        "plt.imshow(X_train[50000], cmap='Greys')\n",
        "plt.show()"
      ],
      "execution_count": null,
      "outputs": [
        {
          "output_type": "display_data",
          "data": {
            "image/png": "[encoded data removed]",
            "text/plain": [
              "<Figure size 432x288 with 1 Axes>"
            ]
          },
          "metadata": {
            "needs_background": "light"
          }
        }
      ]
    },
    {
      "cell_type": "code",
      "metadata": {
        "id": "dqsNi5VEqrVC"
      },
      "source": [
        "X_train = X_train.reshape(X_train.shape[0], 28,28,1)\n",
        "X_train = X_train.astype('float32')\n",
        "X_train = X_train / 255\n",
        "X_test = X_test.reshape(-1,28,28,1).astype('float32') / 255  "
      ],
      "execution_count": null,
      "outputs": []
    },
    {
      "cell_type": "code",
      "metadata": {
        "colab": {
          "base_uri": "https://localhost:8080/"
        },
        "id": "vQdrYBDOrVO6",
        "outputId": "7a958a09-bcd4-48e3-ceeb-da0aa0ddb101"
      },
      "source": [
        "Y_train = np_utils.to_categorical(Y_class_train)\n",
        "Y_test = np_utils.to_categorical(Y_class_test)\n",
        "print(Y_class_train[0])\n",
        "print(Y_train[0])"
      ],
      "execution_count": null,
      "outputs": [
        {
          "output_type": "stream",
          "name": "stdout",
          "text": [
            "5\n",
            "[0. 0. 0. 0. 0. 1. 0. 0. 0. 0.]\n"
          ]
        }
      ]
    },
    {
      "cell_type": "code",
      "metadata": {
        "colab": {
          "base_uri": "https://localhost:8080/"
        },
        "id": "nmfhDPAOrpjk",
        "outputId": "560901b6-bfc0-412c-db9e-6f061897248d"
      },
      "source": [
        "model = Sequential()\n",
        "model.add(Conv2D(32, kernel_size=(3,3), input_shape=(28, 28, 1), activation='relu'))\n",
        "model.add(Conv2D(64, kernel_size=(3,3), activation = 'relu'))\n",
        "model.add(MaxPooling2D(pool_size=2))\n",
        "model.add(Dropout(0.25)) # 과적합 방지\n",
        "model.add(Flatten())\n",
        "model.add(Dense(128, activation = 'relu')) # relu 은닉층에 주로 사용\n",
        "model.add(Dropout(0.5))\n",
        "model.add(Dense(10, activation = 'softmax')) # 다중분류\n",
        "model.summary()"
      ],
      "execution_count": null,
      "outputs": [
        {
          "output_type": "stream",
          "name": "stdout",
          "text": [
            "Model: \"sequential\"\n",
            "_________________________________________________________________\n",
            "Layer (type)                 Output Shape              Param #   \n",
            "=================================================================\n",
            "conv2d (Conv2D)              (None, 26, 26, 32)        320       \n",
            "_________________________________________________________________\n",
            "conv2d_1 (Conv2D)            (None, 24, 24, 64)        18496     \n",
            "_________________________________________________________________\n",
            "max_pooling2d (MaxPooling2D) (None, 12, 12, 64)        0         \n",
            "_________________________________________________________________\n",
            "dropout (Dropout)            (None, 12, 12, 64)        0         \n",
            "_________________________________________________________________\n",
            "flatten (Flatten)            (None, 9216)              0         \n",
            "_________________________________________________________________\n",
            "dense (Dense)                (None, 128)               1179776   \n",
            "_________________________________________________________________\n",
            "dropout_1 (Dropout)          (None, 128)               0         \n",
            "_________________________________________________________________\n",
            "dense_1 (Dense)              (None, 10)                1290      \n",
            "=================================================================\n",
            "Total params: 1,199,882\n",
            "Trainable params: 1,199,882\n",
            "Non-trainable params: 0\n",
            "_________________________________________________________________\n"
          ]
        }
      ]
    },
    {
      "cell_type": "code",
      "metadata": {
        "id": "lSLRhIsbtEzo"
      },
      "source": [
        "model.compile(loss = 'categorical_crossentropy', optimizer='adam', metrics=['accuracy'])"
      ],
      "execution_count": null,
      "outputs": []
    },
    {
      "cell_type": "code",
      "metadata": {
        "colab": {
          "base_uri": "https://localhost:8080/"
        },
        "id": "1keySPFot_rS",
        "outputId": "62f842d3-bff7-4fac-df2a-dd31429a8134"
      },
      "source": [
        "model.fit(X_train,Y_train, epochs = 30,batch_size=200) "
      ],
      "execution_count": null,
      "outputs": [
        {
          "output_type": "stream",
          "name": "stdout",
          "text": [
            "Epoch 1/30\n",
            "300/300 [==============================] - 36s 20ms/step - loss: 0.2636 - accuracy: 0.9201\n",
            "Epoch 2/30\n",
            "300/300 [==============================] - 6s 20ms/step - loss: 0.0869 - accuracy: 0.9747\n",
            "Epoch 3/30\n",
            "300/300 [==============================] - 6s 20ms/step - loss: 0.0665 - accuracy: 0.9797\n",
            "Epoch 4/30\n",
            "300/300 [==============================] - 6s 20ms/step - loss: 0.0520 - accuracy: 0.9844\n",
            "Epoch 5/30\n",
            "300/300 [==============================] - 6s 20ms/step - loss: 0.0455 - accuracy: 0.9857\n",
            "Epoch 6/30\n",
            "300/300 [==============================] - 6s 20ms/step - loss: 0.0386 - accuracy: 0.9876\n",
            "Epoch 7/30\n",
            "300/300 [==============================] - 6s 20ms/step - loss: 0.0342 - accuracy: 0.9891\n",
            "Epoch 8/30\n",
            "300/300 [==============================] - 6s 20ms/step - loss: 0.0306 - accuracy: 0.9902\n",
            "Epoch 9/30\n",
            "300/300 [==============================] - 6s 20ms/step - loss: 0.0277 - accuracy: 0.9911\n",
            "Epoch 10/30\n",
            "300/300 [==============================] - 6s 20ms/step - loss: 0.0263 - accuracy: 0.9913\n",
            "Epoch 11/30\n",
            "300/300 [==============================] - 6s 20ms/step - loss: 0.0249 - accuracy: 0.9920\n",
            "Epoch 12/30\n",
            "300/300 [==============================] - 6s 20ms/step - loss: 0.0220 - accuracy: 0.9929\n",
            "Epoch 13/30\n",
            "300/300 [==============================] - 6s 20ms/step - loss: 0.0218 - accuracy: 0.9929\n",
            "Epoch 14/30\n",
            "300/300 [==============================] - 6s 20ms/step - loss: 0.0204 - accuracy: 0.9930\n",
            "Epoch 15/30\n",
            "300/300 [==============================] - 6s 20ms/step - loss: 0.0167 - accuracy: 0.9940\n",
            "Epoch 16/30\n",
            "300/300 [==============================] - 6s 20ms/step - loss: 0.0181 - accuracy: 0.9941\n",
            "Epoch 17/30\n",
            "300/300 [==============================] - 6s 20ms/step - loss: 0.0155 - accuracy: 0.9946\n",
            "Epoch 18/30\n",
            "300/300 [==============================] - 6s 20ms/step - loss: 0.0157 - accuracy: 0.9945\n",
            "Epoch 19/30\n",
            "300/300 [==============================] - 6s 20ms/step - loss: 0.0147 - accuracy: 0.9953\n",
            "Epoch 20/30\n",
            "300/300 [==============================] - 6s 20ms/step - loss: 0.0133 - accuracy: 0.9957\n",
            "Epoch 21/30\n",
            "300/300 [==============================] - 6s 20ms/step - loss: 0.0129 - accuracy: 0.9957\n",
            "Epoch 22/30\n",
            "300/300 [==============================] - 6s 20ms/step - loss: 0.0129 - accuracy: 0.9959\n",
            "Epoch 23/30\n",
            "300/300 [==============================] - 6s 20ms/step - loss: 0.0136 - accuracy: 0.9956\n",
            "Epoch 24/30\n",
            "300/300 [==============================] - 6s 20ms/step - loss: 0.0125 - accuracy: 0.9957\n",
            "Epoch 25/30\n",
            "300/300 [==============================] - 6s 20ms/step - loss: 0.0113 - accuracy: 0.9959\n",
            "Epoch 26/30\n",
            "300/300 [==============================] - 6s 20ms/step - loss: 0.0113 - accuracy: 0.9960\n",
            "Epoch 27/30\n",
            "300/300 [==============================] - 6s 20ms/step - loss: 0.0102 - accuracy: 0.9968\n",
            "Epoch 28/30\n",
            "300/300 [==============================] - 6s 20ms/step - loss: 0.0113 - accuracy: 0.9965\n",
            "Epoch 29/30\n",
            "300/300 [==============================] - 6s 20ms/step - loss: 0.0100 - accuracy: 0.9963\n",
            "Epoch 30/30\n",
            "300/300 [==============================] - 6s 20ms/step - loss: 0.0108 - accuracy: 0.9964\n"
          ]
        },
        {
          "output_type": "execute_result",
          "data": {
            "text/plain": [
              "<keras.callbacks.History at 0x7f3ac0510f50>"
            ]
          },
          "metadata": {},
          "execution_count": 13
        }
      ]
    }
  ]
}
